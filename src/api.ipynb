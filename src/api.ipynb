{
 "cells": [
  {
   "cell_type": "code",
   "execution_count": 181,
   "metadata": {
    "collapsed": true
   },
   "outputs": [],
   "source": [
    "import requests\n",
    "import pandas as pd\n",
    "import numpy as np\n",
    "import matplotlib\n"
   ]
  },
  {
   "cell_type": "code",
   "execution_count": 182,
   "outputs": [],
   "source": [
    "url = 'https://fantasy.premierleague.com/api/bootstrap-static/'\n",
    "r = requests.get(url)"
   ],
   "metadata": {
    "collapsed": false,
    "pycharm": {
     "name": "#%%\n"
    }
   }
  },
  {
   "cell_type": "code",
   "execution_count": 183,
   "outputs": [],
   "source": [
    "json = r.json()"
   ],
   "metadata": {
    "collapsed": false,
    "pycharm": {
     "name": "#%%\n"
    }
   }
  },
  {
   "cell_type": "code",
   "execution_count": 184,
   "outputs": [
    {
     "data": {
      "text/plain": "dict_keys(['events', 'game_settings', 'phases', 'teams', 'total_players', 'elements', 'element_stats', 'element_types'])"
     },
     "execution_count": 184,
     "metadata": {},
     "output_type": "execute_result"
    }
   ],
   "source": [
    "json.keys()"
   ],
   "metadata": {
    "collapsed": false,
    "pycharm": {
     "name": "#%%\n"
    }
   }
  },
  {
   "cell_type": "code",
   "execution_count": 185,
   "outputs": [
    {
     "data": {
      "text/plain": "   chance_of_playing_next_round  chance_of_playing_this_round   code  \\\n0                           0.0                           0.0  37605   \n1                           0.0                           0.0  39476   \n2                         100.0                         100.0  41270   \n3                         100.0                         100.0  54694   \n4                         100.0                         100.0  58822   \n\n   cost_change_event  cost_change_event_fall  cost_change_start  \\\n0                  0                       0                 -2   \n1                  0                       0                 -1   \n2                  0                       0                  0   \n3                  0                       0                 -3   \n4                  0                       0                 -3   \n\n   cost_change_start_fall  dreamteam_count  element_type ep_next  ...  \\\n0                       2                0             3     0.0  ...   \n1                       1                0             2     0.0  ...   \n2                       0                0             2     1.3  ...   \n3                       3                0             3     4.0  ...   \n4                       3                0             2     0.5  ...   \n\n  threat_rank  threat_rank_type ict_index_rank ict_index_rank_type  \\\n0         600               238            600                 238   \n1         534               203            557                 209   \n2         236                70            268                  90   \n3          44                25             39                  21   \n4         498               193            535                 203   \n\n   corners_and_indirect_freekicks_order  corners_and_indirect_freekicks_text  \\\n0                                   NaN                                        \n1                                   NaN                                        \n2                                   NaN                                        \n3                                   NaN                                        \n4                                   NaN                                        \n\n  direct_freekicks_order direct_freekicks_text  penalties_order penalties_text  \n0                    NaN                                    NaN                 \n1                    NaN                                    NaN                 \n2                    4.0                                    NaN                 \n3                    6.0                                    1.0                 \n4                    NaN                                    NaN                 \n\n[5 rows x 67 columns]",
      "text/html": "<div>\n<style scoped>\n    .dataframe tbody tr th:only-of-type {\n        vertical-align: middle;\n    }\n\n    .dataframe tbody tr th {\n        vertical-align: top;\n    }\n\n    .dataframe thead th {\n        text-align: right;\n    }\n</style>\n<table border=\"1\" class=\"dataframe\">\n  <thead>\n    <tr style=\"text-align: right;\">\n      <th></th>\n      <th>chance_of_playing_next_round</th>\n      <th>chance_of_playing_this_round</th>\n      <th>code</th>\n      <th>cost_change_event</th>\n      <th>cost_change_event_fall</th>\n      <th>cost_change_start</th>\n      <th>cost_change_start_fall</th>\n      <th>dreamteam_count</th>\n      <th>element_type</th>\n      <th>ep_next</th>\n      <th>...</th>\n      <th>threat_rank</th>\n      <th>threat_rank_type</th>\n      <th>ict_index_rank</th>\n      <th>ict_index_rank_type</th>\n      <th>corners_and_indirect_freekicks_order</th>\n      <th>corners_and_indirect_freekicks_text</th>\n      <th>direct_freekicks_order</th>\n      <th>direct_freekicks_text</th>\n      <th>penalties_order</th>\n      <th>penalties_text</th>\n    </tr>\n  </thead>\n  <tbody>\n    <tr>\n      <th>0</th>\n      <td>0.0</td>\n      <td>0.0</td>\n      <td>37605</td>\n      <td>0</td>\n      <td>0</td>\n      <td>-2</td>\n      <td>2</td>\n      <td>0</td>\n      <td>3</td>\n      <td>0.0</td>\n      <td>...</td>\n      <td>600</td>\n      <td>238</td>\n      <td>600</td>\n      <td>238</td>\n      <td>NaN</td>\n      <td></td>\n      <td>NaN</td>\n      <td></td>\n      <td>NaN</td>\n      <td></td>\n    </tr>\n    <tr>\n      <th>1</th>\n      <td>0.0</td>\n      <td>0.0</td>\n      <td>39476</td>\n      <td>0</td>\n      <td>0</td>\n      <td>-1</td>\n      <td>1</td>\n      <td>0</td>\n      <td>2</td>\n      <td>0.0</td>\n      <td>...</td>\n      <td>534</td>\n      <td>203</td>\n      <td>557</td>\n      <td>209</td>\n      <td>NaN</td>\n      <td></td>\n      <td>NaN</td>\n      <td></td>\n      <td>NaN</td>\n      <td></td>\n    </tr>\n    <tr>\n      <th>2</th>\n      <td>100.0</td>\n      <td>100.0</td>\n      <td>41270</td>\n      <td>0</td>\n      <td>0</td>\n      <td>0</td>\n      <td>0</td>\n      <td>0</td>\n      <td>2</td>\n      <td>1.3</td>\n      <td>...</td>\n      <td>236</td>\n      <td>70</td>\n      <td>268</td>\n      <td>90</td>\n      <td>NaN</td>\n      <td></td>\n      <td>4.0</td>\n      <td></td>\n      <td>NaN</td>\n      <td></td>\n    </tr>\n    <tr>\n      <th>3</th>\n      <td>100.0</td>\n      <td>100.0</td>\n      <td>54694</td>\n      <td>0</td>\n      <td>0</td>\n      <td>-3</td>\n      <td>3</td>\n      <td>0</td>\n      <td>3</td>\n      <td>4.0</td>\n      <td>...</td>\n      <td>44</td>\n      <td>25</td>\n      <td>39</td>\n      <td>21</td>\n      <td>NaN</td>\n      <td></td>\n      <td>6.0</td>\n      <td></td>\n      <td>1.0</td>\n      <td></td>\n    </tr>\n    <tr>\n      <th>4</th>\n      <td>100.0</td>\n      <td>100.0</td>\n      <td>58822</td>\n      <td>0</td>\n      <td>0</td>\n      <td>-3</td>\n      <td>3</td>\n      <td>0</td>\n      <td>2</td>\n      <td>0.5</td>\n      <td>...</td>\n      <td>498</td>\n      <td>193</td>\n      <td>535</td>\n      <td>203</td>\n      <td>NaN</td>\n      <td></td>\n      <td>NaN</td>\n      <td></td>\n      <td>NaN</td>\n      <td></td>\n    </tr>\n  </tbody>\n</table>\n<p>5 rows × 67 columns</p>\n</div>"
     },
     "execution_count": 185,
     "metadata": {},
     "output_type": "execute_result"
    }
   ],
   "source": [
    "elements_df = pd.DataFrame(json['elements'])\n",
    "elements_types_df = pd.DataFrame(json['element_types'])\n",
    "teams_df = pd.DataFrame(json['teams'])\n",
    "elements_df.head()"
   ],
   "metadata": {
    "collapsed": false,
    "pycharm": {
     "name": "#%%\n"
    }
   }
  },
  {
   "cell_type": "code",
   "execution_count": 186,
   "outputs": [
    {
     "data": {
      "text/plain": "Index(['chance_of_playing_next_round', 'chance_of_playing_this_round', 'code',\n       'cost_change_event', 'cost_change_event_fall', 'cost_change_start',\n       'cost_change_start_fall', 'dreamteam_count', 'element_type', 'ep_next',\n       'ep_this', 'event_points', 'first_name', 'form', 'id', 'in_dreamteam',\n       'news', 'news_added', 'now_cost', 'photo', 'points_per_game',\n       'second_name', 'selected_by_percent', 'special', 'squad_number',\n       'status', 'team', 'team_code', 'total_points', 'transfers_in',\n       'transfers_in_event', 'transfers_out', 'transfers_out_event',\n       'value_form', 'value_season', 'web_name', 'minutes', 'goals_scored',\n       'assists', 'clean_sheets', 'goals_conceded', 'own_goals',\n       'penalties_saved', 'penalties_missed', 'yellow_cards', 'red_cards',\n       'saves', 'bonus', 'bps', 'influence', 'creativity', 'threat',\n       'ict_index', 'influence_rank', 'influence_rank_type', 'creativity_rank',\n       'creativity_rank_type', 'threat_rank', 'threat_rank_type',\n       'ict_index_rank', 'ict_index_rank_type',\n       'corners_and_indirect_freekicks_order',\n       'corners_and_indirect_freekicks_text', 'direct_freekicks_order',\n       'direct_freekicks_text', 'penalties_order', 'penalties_text'],\n      dtype='object')"
     },
     "execution_count": 186,
     "metadata": {},
     "output_type": "execute_result"
    }
   ],
   "source": [
    "elements_df.columns\n"
   ],
   "metadata": {
    "collapsed": false,
    "pycharm": {
     "name": "#%%\n"
    }
   }
  },
  {
   "cell_type": "code",
   "execution_count": 187,
   "outputs": [
    {
     "data": {
      "text/plain": "            second_name  team  element_type selected_by_percent  now_cost  \\\n0                  Özil     1             3                 0.6        68   \n1      Papastathopoulos     1             2                 0.1        49   \n2  Luiz Moreira Marinho     1             2                 0.9        55   \n3            Aubameyang     1             3                13.2       117   \n4                Soares     1             2                 0.2        47   \n\n   minutes  transfers_in value_season  total_points  \n0        0          3310          0.0             0  \n1        0         10208          0.0             0  \n2      319         32740          1.3             7  \n3      716        411882          2.6            30  \n4        0          2886          0.0             0  ",
      "text/html": "<div>\n<style scoped>\n    .dataframe tbody tr th:only-of-type {\n        vertical-align: middle;\n    }\n\n    .dataframe tbody tr th {\n        vertical-align: top;\n    }\n\n    .dataframe thead th {\n        text-align: right;\n    }\n</style>\n<table border=\"1\" class=\"dataframe\">\n  <thead>\n    <tr style=\"text-align: right;\">\n      <th></th>\n      <th>second_name</th>\n      <th>team</th>\n      <th>element_type</th>\n      <th>selected_by_percent</th>\n      <th>now_cost</th>\n      <th>minutes</th>\n      <th>transfers_in</th>\n      <th>value_season</th>\n      <th>total_points</th>\n    </tr>\n  </thead>\n  <tbody>\n    <tr>\n      <th>0</th>\n      <td>Özil</td>\n      <td>1</td>\n      <td>3</td>\n      <td>0.6</td>\n      <td>68</td>\n      <td>0</td>\n      <td>3310</td>\n      <td>0.0</td>\n      <td>0</td>\n    </tr>\n    <tr>\n      <th>1</th>\n      <td>Papastathopoulos</td>\n      <td>1</td>\n      <td>2</td>\n      <td>0.1</td>\n      <td>49</td>\n      <td>0</td>\n      <td>10208</td>\n      <td>0.0</td>\n      <td>0</td>\n    </tr>\n    <tr>\n      <th>2</th>\n      <td>Luiz Moreira Marinho</td>\n      <td>1</td>\n      <td>2</td>\n      <td>0.9</td>\n      <td>55</td>\n      <td>319</td>\n      <td>32740</td>\n      <td>1.3</td>\n      <td>7</td>\n    </tr>\n    <tr>\n      <th>3</th>\n      <td>Aubameyang</td>\n      <td>1</td>\n      <td>3</td>\n      <td>13.2</td>\n      <td>117</td>\n      <td>716</td>\n      <td>411882</td>\n      <td>2.6</td>\n      <td>30</td>\n    </tr>\n    <tr>\n      <th>4</th>\n      <td>Soares</td>\n      <td>1</td>\n      <td>2</td>\n      <td>0.2</td>\n      <td>47</td>\n      <td>0</td>\n      <td>2886</td>\n      <td>0.0</td>\n      <td>0</td>\n    </tr>\n  </tbody>\n</table>\n</div>"
     },
     "execution_count": 187,
     "metadata": {},
     "output_type": "execute_result"
    }
   ],
   "source": [
    "slim_elements_df = elements_df[['second_name','team','element_type','selected_by_percent','now_cost','minutes','transfers_in','value_season','total_points']]\n",
    "slim_elements_df.head()"
   ],
   "metadata": {
    "collapsed": false,
    "pycharm": {
     "name": "#%%\n"
    }
   }
  },
  {
   "cell_type": "code",
   "execution_count": 188,
   "outputs": [
    {
     "name": "stderr",
     "output_type": "stream",
     "text": [
      "/Users/vishalmi/PycharmProjects/FPLWinner/venv/lib/python3.7/site-packages/ipykernel_launcher.py:1: SettingWithCopyWarning: \n",
      "A value is trying to be set on a copy of a slice from a DataFrame.\n",
      "Try using .loc[row_indexer,col_indexer] = value instead\n",
      "\n",
      "See the caveats in the documentation: https://pandas.pydata.org/pandas-docs/stable/user_guide/indexing.html#returning-a-view-versus-a-copy\n",
      "  \"\"\"Entry point for launching an IPython kernel.\n"
     ]
    },
    {
     "data": {
      "text/plain": "            second_name  team  element_type selected_by_percent  now_cost  \\\n0                  Özil     1             3                 0.6        68   \n1      Papastathopoulos     1             2                 0.1        49   \n2  Luiz Moreira Marinho     1             2                 0.9        55   \n3            Aubameyang     1             3                13.2       117   \n4                Soares     1             2                 0.2        47   \n\n   minutes  transfers_in value_season  total_points    position  \n0        0          3310          0.0             0  Midfielder  \n1        0         10208          0.0             0    Defender  \n2      319         32740          1.3             7    Defender  \n3      716        411882          2.6            30  Midfielder  \n4        0          2886          0.0             0    Defender  ",
      "text/html": "<div>\n<style scoped>\n    .dataframe tbody tr th:only-of-type {\n        vertical-align: middle;\n    }\n\n    .dataframe tbody tr th {\n        vertical-align: top;\n    }\n\n    .dataframe thead th {\n        text-align: right;\n    }\n</style>\n<table border=\"1\" class=\"dataframe\">\n  <thead>\n    <tr style=\"text-align: right;\">\n      <th></th>\n      <th>second_name</th>\n      <th>team</th>\n      <th>element_type</th>\n      <th>selected_by_percent</th>\n      <th>now_cost</th>\n      <th>minutes</th>\n      <th>transfers_in</th>\n      <th>value_season</th>\n      <th>total_points</th>\n      <th>position</th>\n    </tr>\n  </thead>\n  <tbody>\n    <tr>\n      <th>0</th>\n      <td>Özil</td>\n      <td>1</td>\n      <td>3</td>\n      <td>0.6</td>\n      <td>68</td>\n      <td>0</td>\n      <td>3310</td>\n      <td>0.0</td>\n      <td>0</td>\n      <td>Midfielder</td>\n    </tr>\n    <tr>\n      <th>1</th>\n      <td>Papastathopoulos</td>\n      <td>1</td>\n      <td>2</td>\n      <td>0.1</td>\n      <td>49</td>\n      <td>0</td>\n      <td>10208</td>\n      <td>0.0</td>\n      <td>0</td>\n      <td>Defender</td>\n    </tr>\n    <tr>\n      <th>2</th>\n      <td>Luiz Moreira Marinho</td>\n      <td>1</td>\n      <td>2</td>\n      <td>0.9</td>\n      <td>55</td>\n      <td>319</td>\n      <td>32740</td>\n      <td>1.3</td>\n      <td>7</td>\n      <td>Defender</td>\n    </tr>\n    <tr>\n      <th>3</th>\n      <td>Aubameyang</td>\n      <td>1</td>\n      <td>3</td>\n      <td>13.2</td>\n      <td>117</td>\n      <td>716</td>\n      <td>411882</td>\n      <td>2.6</td>\n      <td>30</td>\n      <td>Midfielder</td>\n    </tr>\n    <tr>\n      <th>4</th>\n      <td>Soares</td>\n      <td>1</td>\n      <td>2</td>\n      <td>0.2</td>\n      <td>47</td>\n      <td>0</td>\n      <td>2886</td>\n      <td>0.0</td>\n      <td>0</td>\n      <td>Defender</td>\n    </tr>\n  </tbody>\n</table>\n</div>"
     },
     "execution_count": 188,
     "metadata": {},
     "output_type": "execute_result"
    }
   ],
   "source": [
    "slim_elements_df['position'] = slim_elements_df.element_type.map(elements_types_df.set_index('id').singular_name)\n",
    "slim_elements_df.head()"
   ],
   "metadata": {
    "collapsed": false,
    "pycharm": {
     "name": "#%%\n"
    }
   }
  },
  {
   "cell_type": "code",
   "execution_count": 189,
   "outputs": [
    {
     "name": "stderr",
     "output_type": "stream",
     "text": [
      "/Users/vishalmi/PycharmProjects/FPLWinner/venv/lib/python3.7/site-packages/ipykernel_launcher.py:1: SettingWithCopyWarning: \n",
      "A value is trying to be set on a copy of a slice from a DataFrame.\n",
      "Try using .loc[row_indexer,col_indexer] = value instead\n",
      "\n",
      "See the caveats in the documentation: https://pandas.pydata.org/pandas-docs/stable/user_guide/indexing.html#returning-a-view-versus-a-copy\n",
      "  \"\"\"Entry point for launching an IPython kernel.\n",
      "/Users/vishalmi/PycharmProjects/FPLWinner/venv/lib/python3.7/site-packages/ipykernel_launcher.py:2: SettingWithCopyWarning: \n",
      "A value is trying to be set on a copy of a slice from a DataFrame.\n",
      "Try using .loc[row_indexer,col_indexer] = value instead\n",
      "\n",
      "See the caveats in the documentation: https://pandas.pydata.org/pandas-docs/stable/user_guide/indexing.html#returning-a-view-versus-a-copy\n",
      "  \n"
     ]
    },
    {
     "data": {
      "text/plain": "             second_name            team  element_type selected_by_percent  \\\n283              Bamford           Leeds             4                34.5   \n132                Zouma         Chelsea             2                15.9   \n463          Vestergaard     Southampton             2                 7.9   \n33              Martínez     Aston Villa             1                26.8   \n425               Wilson       Newcastle             4                15.2   \n546            Fabianski        West Ham             1                 2.2   \n47                 Mings     Aston Villa             2                11.3   \n43              Grealish     Aston Villa             3                34.0   \n61               Watkins     Aston Villa             4                 6.3   \n489                  Son           Spurs             3                59.0   \n550            Cresswell        West Ham             2                 8.1   \n52           Konsa Ngoyo     Aston Villa             2                 7.6   \n168                 Zaha  Crystal Palace             3                29.2   \n487                 Kane           Spurs             4                45.4   \n577                Saïss          Wolves             2                18.6   \n572  dos Santos Patrício          Wolves             1                 7.5   \n457             McCarthy     Southampton             1                19.9   \n197        Calvert-Lewin         Everton             4                57.0   \n464          Ward-Prowse     Southampton             3                 7.8   \n129         Frello Filho         Chelsea             3                11.4   \n267               Justin       Leicester             2                21.9   \n585               Kilman          Wolves             2                14.3   \n402               Darlow       Newcastle             1                 1.8   \n470                Adams     Southampton             4                 4.2   \n468        Walker-Peters     Southampton             2                11.4   \n146             Chilwell         Chelsea             2                27.5   \n10              Bellerín         Arsenal             2                 8.2   \n144                James         Chelsea             2                12.2   \n564              Fornals        West Ham             3                 1.8   \n469             Bednarek     Southampton             2                 1.9   \n\n     now_cost  minutes  transfers_in value_season  total_points    position  \\\n283        60      670       2748183          9.7            58     Forward   \n132        53      630       1162800          9.1            48    Defender   \n463        47      585        552105          8.5            40    Defender   \n33         48      630       1731447          8.3            40  Goalkeeper   \n425        66      697       1338522          8.3            55     Forward   \n546        50      720         80051          8.2            41  Goalkeeper   \n47         52      630        815261          8.1            42    Defender   \n43         75      630       2239114          8.0            60  Midfielder   \n61         61      630        622590          7.7            47     Forward   \n489        96      640       4423600          7.7            74  Midfielder   \n550        51      720        614295          7.5            38    Defender   \n52         47      630        690567          7.4            35    Defender   \n168        74      720       2303467          7.3            54  Midfielder   \n487       110      713       2610008          7.3            80     Forward   \n577        52      517       1675150          7.3            38    Defender   \n572        55      720        284308          7.3            40  Goalkeeper   \n457        45      720        570573          7.3            33  Goalkeeper   \n197        78      698       3863423          7.3            57     Forward   \n464        60      720        496004          7.2            43  Midfielder   \n129        52      455       1173131          7.1            37  Midfielder   \n267        48      720       1267293          7.1            34    Defender   \n585        43      450       1007578          7.0            30    Defender   \n402        50      720        151323          7.0            35  Goalkeeper   \n470        59      675        290811          6.9            41     Forward   \n468        45      720        467627          6.9            31    Defender   \n146        60      450       2040467          6.8            41    Defender   \n10         51      720        476224          6.7            34    Defender   \n144        50      543       1114522          6.6            33    Defender   \n564        64      660        144706          6.6            42  Midfielder   \n469        45      630         49366          6.4            29    Defender   \n\n     value  \n283    9.7  \n132    9.1  \n463    8.5  \n33     8.3  \n425    8.3  \n546    8.2  \n47     8.1  \n43     8.0  \n61     7.7  \n489    7.7  \n550    7.5  \n52     7.4  \n168    7.3  \n487    7.3  \n577    7.3  \n572    7.3  \n457    7.3  \n197    7.3  \n464    7.2  \n129    7.1  \n267    7.1  \n585    7.0  \n402    7.0  \n470    6.9  \n468    6.9  \n146    6.8  \n10     6.7  \n144    6.6  \n564    6.6  \n469    6.4  ",
      "text/html": "<div>\n<style scoped>\n    .dataframe tbody tr th:only-of-type {\n        vertical-align: middle;\n    }\n\n    .dataframe tbody tr th {\n        vertical-align: top;\n    }\n\n    .dataframe thead th {\n        text-align: right;\n    }\n</style>\n<table border=\"1\" class=\"dataframe\">\n  <thead>\n    <tr style=\"text-align: right;\">\n      <th></th>\n      <th>second_name</th>\n      <th>team</th>\n      <th>element_type</th>\n      <th>selected_by_percent</th>\n      <th>now_cost</th>\n      <th>minutes</th>\n      <th>transfers_in</th>\n      <th>value_season</th>\n      <th>total_points</th>\n      <th>position</th>\n      <th>value</th>\n    </tr>\n  </thead>\n  <tbody>\n    <tr>\n      <th>283</th>\n      <td>Bamford</td>\n      <td>Leeds</td>\n      <td>4</td>\n      <td>34.5</td>\n      <td>60</td>\n      <td>670</td>\n      <td>2748183</td>\n      <td>9.7</td>\n      <td>58</td>\n      <td>Forward</td>\n      <td>9.7</td>\n    </tr>\n    <tr>\n      <th>132</th>\n      <td>Zouma</td>\n      <td>Chelsea</td>\n      <td>2</td>\n      <td>15.9</td>\n      <td>53</td>\n      <td>630</td>\n      <td>1162800</td>\n      <td>9.1</td>\n      <td>48</td>\n      <td>Defender</td>\n      <td>9.1</td>\n    </tr>\n    <tr>\n      <th>463</th>\n      <td>Vestergaard</td>\n      <td>Southampton</td>\n      <td>2</td>\n      <td>7.9</td>\n      <td>47</td>\n      <td>585</td>\n      <td>552105</td>\n      <td>8.5</td>\n      <td>40</td>\n      <td>Defender</td>\n      <td>8.5</td>\n    </tr>\n    <tr>\n      <th>33</th>\n      <td>Martínez</td>\n      <td>Aston Villa</td>\n      <td>1</td>\n      <td>26.8</td>\n      <td>48</td>\n      <td>630</td>\n      <td>1731447</td>\n      <td>8.3</td>\n      <td>40</td>\n      <td>Goalkeeper</td>\n      <td>8.3</td>\n    </tr>\n    <tr>\n      <th>425</th>\n      <td>Wilson</td>\n      <td>Newcastle</td>\n      <td>4</td>\n      <td>15.2</td>\n      <td>66</td>\n      <td>697</td>\n      <td>1338522</td>\n      <td>8.3</td>\n      <td>55</td>\n      <td>Forward</td>\n      <td>8.3</td>\n    </tr>\n    <tr>\n      <th>546</th>\n      <td>Fabianski</td>\n      <td>West Ham</td>\n      <td>1</td>\n      <td>2.2</td>\n      <td>50</td>\n      <td>720</td>\n      <td>80051</td>\n      <td>8.2</td>\n      <td>41</td>\n      <td>Goalkeeper</td>\n      <td>8.2</td>\n    </tr>\n    <tr>\n      <th>47</th>\n      <td>Mings</td>\n      <td>Aston Villa</td>\n      <td>2</td>\n      <td>11.3</td>\n      <td>52</td>\n      <td>630</td>\n      <td>815261</td>\n      <td>8.1</td>\n      <td>42</td>\n      <td>Defender</td>\n      <td>8.1</td>\n    </tr>\n    <tr>\n      <th>43</th>\n      <td>Grealish</td>\n      <td>Aston Villa</td>\n      <td>3</td>\n      <td>34.0</td>\n      <td>75</td>\n      <td>630</td>\n      <td>2239114</td>\n      <td>8.0</td>\n      <td>60</td>\n      <td>Midfielder</td>\n      <td>8.0</td>\n    </tr>\n    <tr>\n      <th>61</th>\n      <td>Watkins</td>\n      <td>Aston Villa</td>\n      <td>4</td>\n      <td>6.3</td>\n      <td>61</td>\n      <td>630</td>\n      <td>622590</td>\n      <td>7.7</td>\n      <td>47</td>\n      <td>Forward</td>\n      <td>7.7</td>\n    </tr>\n    <tr>\n      <th>489</th>\n      <td>Son</td>\n      <td>Spurs</td>\n      <td>3</td>\n      <td>59.0</td>\n      <td>96</td>\n      <td>640</td>\n      <td>4423600</td>\n      <td>7.7</td>\n      <td>74</td>\n      <td>Midfielder</td>\n      <td>7.7</td>\n    </tr>\n    <tr>\n      <th>550</th>\n      <td>Cresswell</td>\n      <td>West Ham</td>\n      <td>2</td>\n      <td>8.1</td>\n      <td>51</td>\n      <td>720</td>\n      <td>614295</td>\n      <td>7.5</td>\n      <td>38</td>\n      <td>Defender</td>\n      <td>7.5</td>\n    </tr>\n    <tr>\n      <th>52</th>\n      <td>Konsa Ngoyo</td>\n      <td>Aston Villa</td>\n      <td>2</td>\n      <td>7.6</td>\n      <td>47</td>\n      <td>630</td>\n      <td>690567</td>\n      <td>7.4</td>\n      <td>35</td>\n      <td>Defender</td>\n      <td>7.4</td>\n    </tr>\n    <tr>\n      <th>168</th>\n      <td>Zaha</td>\n      <td>Crystal Palace</td>\n      <td>3</td>\n      <td>29.2</td>\n      <td>74</td>\n      <td>720</td>\n      <td>2303467</td>\n      <td>7.3</td>\n      <td>54</td>\n      <td>Midfielder</td>\n      <td>7.3</td>\n    </tr>\n    <tr>\n      <th>487</th>\n      <td>Kane</td>\n      <td>Spurs</td>\n      <td>4</td>\n      <td>45.4</td>\n      <td>110</td>\n      <td>713</td>\n      <td>2610008</td>\n      <td>7.3</td>\n      <td>80</td>\n      <td>Forward</td>\n      <td>7.3</td>\n    </tr>\n    <tr>\n      <th>577</th>\n      <td>Saïss</td>\n      <td>Wolves</td>\n      <td>2</td>\n      <td>18.6</td>\n      <td>52</td>\n      <td>517</td>\n      <td>1675150</td>\n      <td>7.3</td>\n      <td>38</td>\n      <td>Defender</td>\n      <td>7.3</td>\n    </tr>\n    <tr>\n      <th>572</th>\n      <td>dos Santos Patrício</td>\n      <td>Wolves</td>\n      <td>1</td>\n      <td>7.5</td>\n      <td>55</td>\n      <td>720</td>\n      <td>284308</td>\n      <td>7.3</td>\n      <td>40</td>\n      <td>Goalkeeper</td>\n      <td>7.3</td>\n    </tr>\n    <tr>\n      <th>457</th>\n      <td>McCarthy</td>\n      <td>Southampton</td>\n      <td>1</td>\n      <td>19.9</td>\n      <td>45</td>\n      <td>720</td>\n      <td>570573</td>\n      <td>7.3</td>\n      <td>33</td>\n      <td>Goalkeeper</td>\n      <td>7.3</td>\n    </tr>\n    <tr>\n      <th>197</th>\n      <td>Calvert-Lewin</td>\n      <td>Everton</td>\n      <td>4</td>\n      <td>57.0</td>\n      <td>78</td>\n      <td>698</td>\n      <td>3863423</td>\n      <td>7.3</td>\n      <td>57</td>\n      <td>Forward</td>\n      <td>7.3</td>\n    </tr>\n    <tr>\n      <th>464</th>\n      <td>Ward-Prowse</td>\n      <td>Southampton</td>\n      <td>3</td>\n      <td>7.8</td>\n      <td>60</td>\n      <td>720</td>\n      <td>496004</td>\n      <td>7.2</td>\n      <td>43</td>\n      <td>Midfielder</td>\n      <td>7.2</td>\n    </tr>\n    <tr>\n      <th>129</th>\n      <td>Frello Filho</td>\n      <td>Chelsea</td>\n      <td>3</td>\n      <td>11.4</td>\n      <td>52</td>\n      <td>455</td>\n      <td>1173131</td>\n      <td>7.1</td>\n      <td>37</td>\n      <td>Midfielder</td>\n      <td>7.1</td>\n    </tr>\n    <tr>\n      <th>267</th>\n      <td>Justin</td>\n      <td>Leicester</td>\n      <td>2</td>\n      <td>21.9</td>\n      <td>48</td>\n      <td>720</td>\n      <td>1267293</td>\n      <td>7.1</td>\n      <td>34</td>\n      <td>Defender</td>\n      <td>7.1</td>\n    </tr>\n    <tr>\n      <th>585</th>\n      <td>Kilman</td>\n      <td>Wolves</td>\n      <td>2</td>\n      <td>14.3</td>\n      <td>43</td>\n      <td>450</td>\n      <td>1007578</td>\n      <td>7.0</td>\n      <td>30</td>\n      <td>Defender</td>\n      <td>7.0</td>\n    </tr>\n    <tr>\n      <th>402</th>\n      <td>Darlow</td>\n      <td>Newcastle</td>\n      <td>1</td>\n      <td>1.8</td>\n      <td>50</td>\n      <td>720</td>\n      <td>151323</td>\n      <td>7.0</td>\n      <td>35</td>\n      <td>Goalkeeper</td>\n      <td>7.0</td>\n    </tr>\n    <tr>\n      <th>470</th>\n      <td>Adams</td>\n      <td>Southampton</td>\n      <td>4</td>\n      <td>4.2</td>\n      <td>59</td>\n      <td>675</td>\n      <td>290811</td>\n      <td>6.9</td>\n      <td>41</td>\n      <td>Forward</td>\n      <td>6.9</td>\n    </tr>\n    <tr>\n      <th>468</th>\n      <td>Walker-Peters</td>\n      <td>Southampton</td>\n      <td>2</td>\n      <td>11.4</td>\n      <td>45</td>\n      <td>720</td>\n      <td>467627</td>\n      <td>6.9</td>\n      <td>31</td>\n      <td>Defender</td>\n      <td>6.9</td>\n    </tr>\n    <tr>\n      <th>146</th>\n      <td>Chilwell</td>\n      <td>Chelsea</td>\n      <td>2</td>\n      <td>27.5</td>\n      <td>60</td>\n      <td>450</td>\n      <td>2040467</td>\n      <td>6.8</td>\n      <td>41</td>\n      <td>Defender</td>\n      <td>6.8</td>\n    </tr>\n    <tr>\n      <th>10</th>\n      <td>Bellerín</td>\n      <td>Arsenal</td>\n      <td>2</td>\n      <td>8.2</td>\n      <td>51</td>\n      <td>720</td>\n      <td>476224</td>\n      <td>6.7</td>\n      <td>34</td>\n      <td>Defender</td>\n      <td>6.7</td>\n    </tr>\n    <tr>\n      <th>144</th>\n      <td>James</td>\n      <td>Chelsea</td>\n      <td>2</td>\n      <td>12.2</td>\n      <td>50</td>\n      <td>543</td>\n      <td>1114522</td>\n      <td>6.6</td>\n      <td>33</td>\n      <td>Defender</td>\n      <td>6.6</td>\n    </tr>\n    <tr>\n      <th>564</th>\n      <td>Fornals</td>\n      <td>West Ham</td>\n      <td>3</td>\n      <td>1.8</td>\n      <td>64</td>\n      <td>660</td>\n      <td>144706</td>\n      <td>6.6</td>\n      <td>42</td>\n      <td>Midfielder</td>\n      <td>6.6</td>\n    </tr>\n    <tr>\n      <th>469</th>\n      <td>Bednarek</td>\n      <td>Southampton</td>\n      <td>2</td>\n      <td>1.9</td>\n      <td>45</td>\n      <td>630</td>\n      <td>49366</td>\n      <td>6.4</td>\n      <td>29</td>\n      <td>Defender</td>\n      <td>6.4</td>\n    </tr>\n  </tbody>\n</table>\n</div>"
     },
     "execution_count": 189,
     "metadata": {},
     "output_type": "execute_result"
    }
   ],
   "source": [
    "slim_elements_df['team'] = slim_elements_df.team.map(teams_df.set_index('id').name)\n",
    "slim_elements_df['value'] = slim_elements_df.value_season.astype(float)\n",
    "\n",
    "slim_elements_df.sort_values('value',ascending=False).head(30)\n"
   ],
   "metadata": {
    "collapsed": false,
    "pycharm": {
     "name": "#%%\n"
    }
   }
  },
  {
   "cell_type": "code",
   "execution_count": 190,
   "outputs": [
    {
     "data": {
      "text/plain": "     position     value\n1     Forward  2.015789\n3  Midfielder  1.941176\n0    Defender  1.901376\n2  Goalkeeper  1.613235",
      "text/html": "<div>\n<style scoped>\n    .dataframe tbody tr th:only-of-type {\n        vertical-align: middle;\n    }\n\n    .dataframe tbody tr th {\n        vertical-align: top;\n    }\n\n    .dataframe thead th {\n        text-align: right;\n    }\n</style>\n<table border=\"1\" class=\"dataframe\">\n  <thead>\n    <tr style=\"text-align: right;\">\n      <th></th>\n      <th>position</th>\n      <th>value</th>\n    </tr>\n  </thead>\n  <tbody>\n    <tr>\n      <th>1</th>\n      <td>Forward</td>\n      <td>2.015789</td>\n    </tr>\n    <tr>\n      <th>3</th>\n      <td>Midfielder</td>\n      <td>1.941176</td>\n    </tr>\n    <tr>\n      <th>0</th>\n      <td>Defender</td>\n      <td>1.901376</td>\n    </tr>\n    <tr>\n      <th>2</th>\n      <td>Goalkeeper</td>\n      <td>1.613235</td>\n    </tr>\n  </tbody>\n</table>\n</div>"
     },
     "execution_count": 190,
     "metadata": {},
     "output_type": "execute_result"
    }
   ],
   "source": [
    "slim_elements_df.pivot_table(index='position',values='value',aggfunc=np.mean).reset_index()\n",
    "pivot=slim_elements_df.pivot_table(index='position',values='value',aggfunc=np.mean).reset_index()\n",
    "pivot.sort_values('value',ascending=False)\n",
    "\n"
   ],
   "metadata": {
    "collapsed": false,
    "pycharm": {
     "name": "#%%\n"
    }
   }
  },
  {
   "cell_type": "code",
   "execution_count": 191,
   "outputs": [
    {
     "data": {
      "text/plain": "     position     value\n2  Goalkeeper  4.219231\n0    Defender  2.864828\n1     Forward  2.735714\n3  Midfielder  2.552486",
      "text/html": "<div>\n<style scoped>\n    .dataframe tbody tr th:only-of-type {\n        vertical-align: middle;\n    }\n\n    .dataframe tbody tr th {\n        vertical-align: top;\n    }\n\n    .dataframe thead th {\n        text-align: right;\n    }\n</style>\n<table border=\"1\" class=\"dataframe\">\n  <thead>\n    <tr style=\"text-align: right;\">\n      <th></th>\n      <th>position</th>\n      <th>value</th>\n    </tr>\n  </thead>\n  <tbody>\n    <tr>\n      <th>2</th>\n      <td>Goalkeeper</td>\n      <td>4.219231</td>\n    </tr>\n    <tr>\n      <th>0</th>\n      <td>Defender</td>\n      <td>2.864828</td>\n    </tr>\n    <tr>\n      <th>1</th>\n      <td>Forward</td>\n      <td>2.735714</td>\n    </tr>\n    <tr>\n      <th>3</th>\n      <td>Midfielder</td>\n      <td>2.552486</td>\n    </tr>\n  </tbody>\n</table>\n</div>"
     },
     "execution_count": 191,
     "metadata": {},
     "output_type": "execute_result"
    }
   ],
   "source": [
    "slim_elements_df = slim_elements_df.loc[slim_elements_df.value > 0]\n",
    "pivot = slim_elements_df.pivot_table(index='position',values='value',aggfunc=np.mean).reset_index()\n",
    "pivot.sort_values('value',ascending=False)\n"
   ],
   "metadata": {
    "collapsed": false,
    "pycharm": {
     "name": "#%%\n"
    }
   }
  },
  {
   "cell_type": "code",
   "execution_count": 192,
   "outputs": [
    {
     "data": {
      "text/plain": "              team     value\n1      Aston Villa  4.161111\n15     Southampton  3.835000\n19          Wolves  3.575000\n4          Chelsea  3.565000\n18        West Ham  3.419048\n8            Leeds  3.273684\n9        Leicester  3.018182\n0          Arsenal  2.942105\n5   Crystal Palace  2.915000\n2         Brighton  2.910000\n13       Newcastle  2.775000\n16           Spurs  2.722727\n17       West Brom  2.280952\n6          Everton  2.269565\n3          Burnley  2.215789\n10       Liverpool  2.204762\n7           Fulham  2.134783\n14   Sheffield Utd  2.036842\n12         Man Utd  1.994737\n11        Man City  1.977273",
      "text/html": "<div>\n<style scoped>\n    .dataframe tbody tr th:only-of-type {\n        vertical-align: middle;\n    }\n\n    .dataframe tbody tr th {\n        vertical-align: top;\n    }\n\n    .dataframe thead th {\n        text-align: right;\n    }\n</style>\n<table border=\"1\" class=\"dataframe\">\n  <thead>\n    <tr style=\"text-align: right;\">\n      <th></th>\n      <th>team</th>\n      <th>value</th>\n    </tr>\n  </thead>\n  <tbody>\n    <tr>\n      <th>1</th>\n      <td>Aston Villa</td>\n      <td>4.161111</td>\n    </tr>\n    <tr>\n      <th>15</th>\n      <td>Southampton</td>\n      <td>3.835000</td>\n    </tr>\n    <tr>\n      <th>19</th>\n      <td>Wolves</td>\n      <td>3.575000</td>\n    </tr>\n    <tr>\n      <th>4</th>\n      <td>Chelsea</td>\n      <td>3.565000</td>\n    </tr>\n    <tr>\n      <th>18</th>\n      <td>West Ham</td>\n      <td>3.419048</td>\n    </tr>\n    <tr>\n      <th>8</th>\n      <td>Leeds</td>\n      <td>3.273684</td>\n    </tr>\n    <tr>\n      <th>9</th>\n      <td>Leicester</td>\n      <td>3.018182</td>\n    </tr>\n    <tr>\n      <th>0</th>\n      <td>Arsenal</td>\n      <td>2.942105</td>\n    </tr>\n    <tr>\n      <th>5</th>\n      <td>Crystal Palace</td>\n      <td>2.915000</td>\n    </tr>\n    <tr>\n      <th>2</th>\n      <td>Brighton</td>\n      <td>2.910000</td>\n    </tr>\n    <tr>\n      <th>13</th>\n      <td>Newcastle</td>\n      <td>2.775000</td>\n    </tr>\n    <tr>\n      <th>16</th>\n      <td>Spurs</td>\n      <td>2.722727</td>\n    </tr>\n    <tr>\n      <th>17</th>\n      <td>West Brom</td>\n      <td>2.280952</td>\n    </tr>\n    <tr>\n      <th>6</th>\n      <td>Everton</td>\n      <td>2.269565</td>\n    </tr>\n    <tr>\n      <th>3</th>\n      <td>Burnley</td>\n      <td>2.215789</td>\n    </tr>\n    <tr>\n      <th>10</th>\n      <td>Liverpool</td>\n      <td>2.204762</td>\n    </tr>\n    <tr>\n      <th>7</th>\n      <td>Fulham</td>\n      <td>2.134783</td>\n    </tr>\n    <tr>\n      <th>14</th>\n      <td>Sheffield Utd</td>\n      <td>2.036842</td>\n    </tr>\n    <tr>\n      <th>12</th>\n      <td>Man Utd</td>\n      <td>1.994737</td>\n    </tr>\n    <tr>\n      <th>11</th>\n      <td>Man City</td>\n      <td>1.977273</td>\n    </tr>\n  </tbody>\n</table>\n</div>"
     },
     "execution_count": 192,
     "metadata": {},
     "output_type": "execute_result"
    }
   ],
   "source": [
    "team_pivot = slim_elements_df.pivot_table(index='team',values='value',aggfunc=np.mean).reset_index()\n",
    "team_pivot.sort_values('value',ascending=False)\n",
    "\n"
   ],
   "metadata": {
    "collapsed": false,
    "pycharm": {
     "name": "#%%\n"
    }
   }
  },
  {
   "cell_type": "code",
   "execution_count": 193,
   "outputs": [
    {
     "data": {
      "text/plain": "<AxesSubplot:>"
     },
     "execution_count": 193,
     "metadata": {},
     "output_type": "execute_result"
    },
    {
     "data": {
      "text/plain": "<Figure size 432x288 with 1 Axes>",
      "image/png": "[encoded data removed]"
     },
     "metadata": {
      "needs_background": "light"
     },
     "output_type": "display_data"
    }
   ],
   "source": [
    "fwd_df = slim_elements_df.loc[slim_elements_df.position == 'Forward']\n",
    "mid_df = slim_elements_df.loc[slim_elements_df.position == 'Midfielder']\n",
    "def_df = slim_elements_df.loc[slim_elements_df.position == 'Defender']\n",
    "goal_df = slim_elements_df.loc[slim_elements_df.position == 'Goalkeeper']\n",
    "\n",
    "goal_df.value.hist()\n"
   ],
   "metadata": {
    "collapsed": false,
    "pycharm": {
     "name": "#%%\n"
    }
   }
  },
  {
   "cell_type": "code",
   "execution_count": 194,
   "outputs": [
    {
     "data": {
      "text/plain": "             second_name         team  element_type selected_by_percent  \\\n33              Martínez  Aston Villa             1                26.8   \n546            Fabianski     West Ham             1                 2.2   \n572  dos Santos Patrício       Wolves             1                 7.5   \n457             McCarthy  Southampton             1                19.9   \n402               Darlow    Newcastle             1                 1.8   \n246           Schmeichel    Leicester             1                11.8   \n525            Johnstone    West Brom             1                 1.0   \n294              Meslier        Leeds             1                 4.1   \n7                   Leno      Arsenal             1                 9.2   \n112                 Pope      Burnley             1                10.8   \n\n     now_cost  minutes  transfers_in value_season  total_points    position  \\\n33         48      630       1731447          8.3            40  Goalkeeper   \n546        50      720         80051          8.2            41  Goalkeeper   \n572        55      720        284308          7.3            40  Goalkeeper   \n457        45      720        570573          7.3            33  Goalkeeper   \n402        50      720        151323          7.0            35  Goalkeeper   \n246        55      720        232803          6.2            34  Goalkeeper   \n525        45      720         55961          5.8            26  Goalkeeper   \n294        45      720        293296          5.8            26  Goalkeeper   \n7          50      720        372932          5.6            28  Goalkeeper   \n112        54      630        145660          5.4            29  Goalkeeper   \n\n     value  \n33     8.3  \n546    8.2  \n572    7.3  \n457    7.3  \n402    7.0  \n246    6.2  \n525    5.8  \n294    5.8  \n7      5.6  \n112    5.4  ",
      "text/html": "<div>\n<style scoped>\n    .dataframe tbody tr th:only-of-type {\n        vertical-align: middle;\n    }\n\n    .dataframe tbody tr th {\n        vertical-align: top;\n    }\n\n    .dataframe thead th {\n        text-align: right;\n    }\n</style>\n<table border=\"1\" class=\"dataframe\">\n  <thead>\n    <tr style=\"text-align: right;\">\n      <th></th>\n      <th>second_name</th>\n      <th>team</th>\n      <th>element_type</th>\n      <th>selected_by_percent</th>\n      <th>now_cost</th>\n      <th>minutes</th>\n      <th>transfers_in</th>\n      <th>value_season</th>\n      <th>total_points</th>\n      <th>position</th>\n      <th>value</th>\n    </tr>\n  </thead>\n  <tbody>\n    <tr>\n      <th>33</th>\n      <td>Martínez</td>\n      <td>Aston Villa</td>\n      <td>1</td>\n      <td>26.8</td>\n      <td>48</td>\n      <td>630</td>\n      <td>1731447</td>\n      <td>8.3</td>\n      <td>40</td>\n      <td>Goalkeeper</td>\n      <td>8.3</td>\n    </tr>\n    <tr>\n      <th>546</th>\n      <td>Fabianski</td>\n      <td>West Ham</td>\n      <td>1</td>\n      <td>2.2</td>\n      <td>50</td>\n      <td>720</td>\n      <td>80051</td>\n      <td>8.2</td>\n      <td>41</td>\n      <td>Goalkeeper</td>\n      <td>8.2</td>\n    </tr>\n    <tr>\n      <th>572</th>\n      <td>dos Santos Patrício</td>\n      <td>Wolves</td>\n      <td>1</td>\n      <td>7.5</td>\n      <td>55</td>\n      <td>720</td>\n      <td>284308</td>\n      <td>7.3</td>\n      <td>40</td>\n      <td>Goalkeeper</td>\n      <td>7.3</td>\n    </tr>\n    <tr>\n      <th>457</th>\n      <td>McCarthy</td>\n      <td>Southampton</td>\n      <td>1</td>\n      <td>19.9</td>\n      <td>45</td>\n      <td>720</td>\n      <td>570573</td>\n      <td>7.3</td>\n      <td>33</td>\n      <td>Goalkeeper</td>\n      <td>7.3</td>\n    </tr>\n    <tr>\n      <th>402</th>\n      <td>Darlow</td>\n      <td>Newcastle</td>\n      <td>1</td>\n      <td>1.8</td>\n      <td>50</td>\n      <td>720</td>\n      <td>151323</td>\n      <td>7.0</td>\n      <td>35</td>\n      <td>Goalkeeper</td>\n      <td>7.0</td>\n    </tr>\n    <tr>\n      <th>246</th>\n      <td>Schmeichel</td>\n      <td>Leicester</td>\n      <td>1</td>\n      <td>11.8</td>\n      <td>55</td>\n      <td>720</td>\n      <td>232803</td>\n      <td>6.2</td>\n      <td>34</td>\n      <td>Goalkeeper</td>\n      <td>6.2</td>\n    </tr>\n    <tr>\n      <th>525</th>\n      <td>Johnstone</td>\n      <td>West Brom</td>\n      <td>1</td>\n      <td>1.0</td>\n      <td>45</td>\n      <td>720</td>\n      <td>55961</td>\n      <td>5.8</td>\n      <td>26</td>\n      <td>Goalkeeper</td>\n      <td>5.8</td>\n    </tr>\n    <tr>\n      <th>294</th>\n      <td>Meslier</td>\n      <td>Leeds</td>\n      <td>1</td>\n      <td>4.1</td>\n      <td>45</td>\n      <td>720</td>\n      <td>293296</td>\n      <td>5.8</td>\n      <td>26</td>\n      <td>Goalkeeper</td>\n      <td>5.8</td>\n    </tr>\n    <tr>\n      <th>7</th>\n      <td>Leno</td>\n      <td>Arsenal</td>\n      <td>1</td>\n      <td>9.2</td>\n      <td>50</td>\n      <td>720</td>\n      <td>372932</td>\n      <td>5.6</td>\n      <td>28</td>\n      <td>Goalkeeper</td>\n      <td>5.6</td>\n    </tr>\n    <tr>\n      <th>112</th>\n      <td>Pope</td>\n      <td>Burnley</td>\n      <td>1</td>\n      <td>10.8</td>\n      <td>54</td>\n      <td>630</td>\n      <td>145660</td>\n      <td>5.4</td>\n      <td>29</td>\n      <td>Goalkeeper</td>\n      <td>5.4</td>\n    </tr>\n  </tbody>\n</table>\n</div>"
     },
     "execution_count": 194,
     "metadata": {},
     "output_type": "execute_result"
    }
   ],
   "source": [
    "goal_df.sort_values('value',ascending=False).head(10)"
   ],
   "metadata": {
    "collapsed": false,
    "pycharm": {
     "name": "#%%\n"
    }
   }
  },
  {
   "cell_type": "code",
   "execution_count": 195,
   "outputs": [
    {
     "data": {
      "text/plain": "<AxesSubplot:>"
     },
     "execution_count": 195,
     "metadata": {},
     "output_type": "execute_result"
    },
    {
     "data": {
      "text/plain": "<Figure size 432x288 with 1 Axes>",
      "image/png": "[encoded data removed]"
     },
     "metadata": {
      "needs_background": "light"
     },
     "output_type": "display_data"
    }
   ],
   "source": [
    "def_df.value.hist()"
   ],
   "metadata": {
    "collapsed": false,
    "pycharm": {
     "name": "#%%\n"
    }
   }
  },
  {
   "cell_type": "code",
   "execution_count": 196,
   "outputs": [
    {
     "data": {
      "text/plain": "       second_name         team  element_type selected_by_percent  now_cost  \\\n132          Zouma      Chelsea             2                15.9        53   \n463    Vestergaard  Southampton             2                 7.9        47   \n47           Mings  Aston Villa             2                11.3        52   \n550      Cresswell     West Ham             2                 8.1        51   \n52     Konsa Ngoyo  Aston Villa             2                 7.6        47   \n577          Saïss       Wolves             2                18.6        52   \n267         Justin    Leicester             2                21.9        48   \n585         Kilman       Wolves             2                14.3        43   \n468  Walker-Peters  Southampton             2                11.4        45   \n146       Chilwell      Chelsea             2                27.5        60   \n10        Bellerín      Arsenal             2                 8.2        51   \n144          James      Chelsea             2                12.2        50   \n469       Bednarek  Southampton             2                 1.9        45   \n48         Targett  Aston Villa             2                 2.0        45   \n557        Masuaku     West Ham             2                 1.8        45   \n86         Lamptey     Brighton             2                12.3        47   \n27       Magalhães      Arsenal             2                11.5        51   \n269       Castagne    Leicester             2                 9.6        57   \n558       Balbuena     West Ham             2                 1.4        44   \n575          Coady       Wolves             2                 8.8        50   \n\n     minutes  transfers_in value_season  total_points  position  value  \n132      630       1162800          9.1            48  Defender    9.1  \n463      585        552105          8.5            40  Defender    8.5  \n47       630        815261          8.1            42  Defender    8.1  \n550      720        614295          7.5            38  Defender    7.5  \n52       630        690567          7.4            35  Defender    7.4  \n577      517       1675150          7.3            38  Defender    7.3  \n267      720       1267293          7.1            34  Defender    7.1  \n585      450       1007578          7.0            30  Defender    7.0  \n468      720        467627          6.9            31  Defender    6.9  \n146      450       2040467          6.8            41  Defender    6.8  \n10       720        476224          6.7            34  Defender    6.7  \n144      543       1114522          6.6            33  Defender    6.6  \n469      630         49366          6.4            29  Defender    6.4  \n48       630        138170          6.4            29  Defender    6.4  \n557      625        145599          6.2            28  Defender    6.2  \n86       630        996649          6.2            29  Defender    6.2  \n27       630        872728          6.1            31  Defender    6.1  \n269      540       1559395          6.1            35  Defender    6.1  \n558      540        110326          6.1            27  Defender    6.1  \n575      720        300730          6.0            30  Defender    6.0  ",
      "text/html": "<div>\n<style scoped>\n    .dataframe tbody tr th:only-of-type {\n        vertical-align: middle;\n    }\n\n    .dataframe tbody tr th {\n        vertical-align: top;\n    }\n\n    .dataframe thead th {\n        text-align: right;\n    }\n</style>\n<table border=\"1\" class=\"dataframe\">\n  <thead>\n    <tr style=\"text-align: right;\">\n      <th></th>\n      <th>second_name</th>\n      <th>team</th>\n      <th>element_type</th>\n      <th>selected_by_percent</th>\n      <th>now_cost</th>\n      <th>minutes</th>\n      <th>transfers_in</th>\n      <th>value_season</th>\n      <th>total_points</th>\n      <th>position</th>\n      <th>value</th>\n    </tr>\n  </thead>\n  <tbody>\n    <tr>\n      <th>132</th>\n      <td>Zouma</td>\n      <td>Chelsea</td>\n      <td>2</td>\n      <td>15.9</td>\n      <td>53</td>\n      <td>630</td>\n      <td>1162800</td>\n      <td>9.1</td>\n      <td>48</td>\n      <td>Defender</td>\n      <td>9.1</td>\n    </tr>\n    <tr>\n      <th>463</th>\n      <td>Vestergaard</td>\n      <td>Southampton</td>\n      <td>2</td>\n      <td>7.9</td>\n      <td>47</td>\n      <td>585</td>\n      <td>552105</td>\n      <td>8.5</td>\n      <td>40</td>\n      <td>Defender</td>\n      <td>8.5</td>\n    </tr>\n    <tr>\n      <th>47</th>\n      <td>Mings</td>\n      <td>Aston Villa</td>\n      <td>2</td>\n      <td>11.3</td>\n      <td>52</td>\n      <td>630</td>\n      <td>815261</td>\n      <td>8.1</td>\n      <td>42</td>\n      <td>Defender</td>\n      <td>8.1</td>\n    </tr>\n    <tr>\n      <th>550</th>\n      <td>Cresswell</td>\n      <td>West Ham</td>\n      <td>2</td>\n      <td>8.1</td>\n      <td>51</td>\n      <td>720</td>\n      <td>614295</td>\n      <td>7.5</td>\n      <td>38</td>\n      <td>Defender</td>\n      <td>7.5</td>\n    </tr>\n    <tr>\n      <th>52</th>\n      <td>Konsa Ngoyo</td>\n      <td>Aston Villa</td>\n      <td>2</td>\n      <td>7.6</td>\n      <td>47</td>\n      <td>630</td>\n      <td>690567</td>\n      <td>7.4</td>\n      <td>35</td>\n      <td>Defender</td>\n      <td>7.4</td>\n    </tr>\n    <tr>\n      <th>577</th>\n      <td>Saïss</td>\n      <td>Wolves</td>\n      <td>2</td>\n      <td>18.6</td>\n      <td>52</td>\n      <td>517</td>\n      <td>1675150</td>\n      <td>7.3</td>\n      <td>38</td>\n      <td>Defender</td>\n      <td>7.3</td>\n    </tr>\n    <tr>\n      <th>267</th>\n      <td>Justin</td>\n      <td>Leicester</td>\n      <td>2</td>\n      <td>21.9</td>\n      <td>48</td>\n      <td>720</td>\n      <td>1267293</td>\n      <td>7.1</td>\n      <td>34</td>\n      <td>Defender</td>\n      <td>7.1</td>\n    </tr>\n    <tr>\n      <th>585</th>\n      <td>Kilman</td>\n      <td>Wolves</td>\n      <td>2</td>\n      <td>14.3</td>\n      <td>43</td>\n      <td>450</td>\n      <td>1007578</td>\n      <td>7.0</td>\n      <td>30</td>\n      <td>Defender</td>\n      <td>7.0</td>\n    </tr>\n    <tr>\n      <th>468</th>\n      <td>Walker-Peters</td>\n      <td>Southampton</td>\n      <td>2</td>\n      <td>11.4</td>\n      <td>45</td>\n      <td>720</td>\n      <td>467627</td>\n      <td>6.9</td>\n      <td>31</td>\n      <td>Defender</td>\n      <td>6.9</td>\n    </tr>\n    <tr>\n      <th>146</th>\n      <td>Chilwell</td>\n      <td>Chelsea</td>\n      <td>2</td>\n      <td>27.5</td>\n      <td>60</td>\n      <td>450</td>\n      <td>2040467</td>\n      <td>6.8</td>\n      <td>41</td>\n      <td>Defender</td>\n      <td>6.8</td>\n    </tr>\n    <tr>\n      <th>10</th>\n      <td>Bellerín</td>\n      <td>Arsenal</td>\n      <td>2</td>\n      <td>8.2</td>\n      <td>51</td>\n      <td>720</td>\n      <td>476224</td>\n      <td>6.7</td>\n      <td>34</td>\n      <td>Defender</td>\n      <td>6.7</td>\n    </tr>\n    <tr>\n      <th>144</th>\n      <td>James</td>\n      <td>Chelsea</td>\n      <td>2</td>\n      <td>12.2</td>\n      <td>50</td>\n      <td>543</td>\n      <td>1114522</td>\n      <td>6.6</td>\n      <td>33</td>\n      <td>Defender</td>\n      <td>6.6</td>\n    </tr>\n    <tr>\n      <th>469</th>\n      <td>Bednarek</td>\n      <td>Southampton</td>\n      <td>2</td>\n      <td>1.9</td>\n      <td>45</td>\n      <td>630</td>\n      <td>49366</td>\n      <td>6.4</td>\n      <td>29</td>\n      <td>Defender</td>\n      <td>6.4</td>\n    </tr>\n    <tr>\n      <th>48</th>\n      <td>Targett</td>\n      <td>Aston Villa</td>\n      <td>2</td>\n      <td>2.0</td>\n      <td>45</td>\n      <td>630</td>\n      <td>138170</td>\n      <td>6.4</td>\n      <td>29</td>\n      <td>Defender</td>\n      <td>6.4</td>\n    </tr>\n    <tr>\n      <th>557</th>\n      <td>Masuaku</td>\n      <td>West Ham</td>\n      <td>2</td>\n      <td>1.8</td>\n      <td>45</td>\n      <td>625</td>\n      <td>145599</td>\n      <td>6.2</td>\n      <td>28</td>\n      <td>Defender</td>\n      <td>6.2</td>\n    </tr>\n    <tr>\n      <th>86</th>\n      <td>Lamptey</td>\n      <td>Brighton</td>\n      <td>2</td>\n      <td>12.3</td>\n      <td>47</td>\n      <td>630</td>\n      <td>996649</td>\n      <td>6.2</td>\n      <td>29</td>\n      <td>Defender</td>\n      <td>6.2</td>\n    </tr>\n    <tr>\n      <th>27</th>\n      <td>Magalhães</td>\n      <td>Arsenal</td>\n      <td>2</td>\n      <td>11.5</td>\n      <td>51</td>\n      <td>630</td>\n      <td>872728</td>\n      <td>6.1</td>\n      <td>31</td>\n      <td>Defender</td>\n      <td>6.1</td>\n    </tr>\n    <tr>\n      <th>269</th>\n      <td>Castagne</td>\n      <td>Leicester</td>\n      <td>2</td>\n      <td>9.6</td>\n      <td>57</td>\n      <td>540</td>\n      <td>1559395</td>\n      <td>6.1</td>\n      <td>35</td>\n      <td>Defender</td>\n      <td>6.1</td>\n    </tr>\n    <tr>\n      <th>558</th>\n      <td>Balbuena</td>\n      <td>West Ham</td>\n      <td>2</td>\n      <td>1.4</td>\n      <td>44</td>\n      <td>540</td>\n      <td>110326</td>\n      <td>6.1</td>\n      <td>27</td>\n      <td>Defender</td>\n      <td>6.1</td>\n    </tr>\n    <tr>\n      <th>575</th>\n      <td>Coady</td>\n      <td>Wolves</td>\n      <td>2</td>\n      <td>8.8</td>\n      <td>50</td>\n      <td>720</td>\n      <td>300730</td>\n      <td>6.0</td>\n      <td>30</td>\n      <td>Defender</td>\n      <td>6.0</td>\n    </tr>\n  </tbody>\n</table>\n</div>"
     },
     "execution_count": 196,
     "metadata": {},
     "output_type": "execute_result"
    }
   ],
   "source": [
    "def_df.sort_values('value',ascending=False).head(20)"
   ],
   "metadata": {
    "collapsed": false,
    "pycharm": {
     "name": "#%%\n"
    }
   }
  },
  {
   "cell_type": "code",
   "execution_count": 197,
   "outputs": [
    {
     "data": {
      "text/plain": "<AxesSubplot:>"
     },
     "execution_count": 197,
     "metadata": {},
     "output_type": "execute_result"
    },
    {
     "data": {
      "text/plain": "<Figure size 432x288 with 1 Axes>",
      "image/png": "[encoded data removed]"
     },
     "metadata": {
      "needs_background": "light"
     },
     "output_type": "display_data"
    }
   ],
   "source": [
    "mid_df.value.hist()"
   ],
   "metadata": {
    "collapsed": false,
    "pycharm": {
     "name": "#%%\n"
    }
   }
  },
  {
   "cell_type": "code",
   "execution_count": 198,
   "outputs": [
    {
     "data": {
      "text/plain": "                  second_name            team  element_type  \\\n43                   Grealish     Aston Villa             3   \n489                       Son           Spurs             3   \n168                      Zaha  Crystal Palace             3   \n464               Ward-Prowse     Southampton             3   \n129              Frello Filho         Chelsea             3   \n564                   Fornals        West Ham             3   \n279                     Klich           Leeds             3   \n44                     McGinn     Aston Villa             3   \n286  Sousa de Azevedo e Costa           Leeds             3   \n589                Lomba Neto          Wolves             3   \n560                     Bowen        West Ham             3   \n421                  Hendrick       Newcastle             3   \n563                    Soucek        West Ham             3   \n317                     Salah       Liverpool             3   \n205                 Rodríguez         Everton             3   \n164                  Townsend  Crystal Palace             3   \n458               Romeu Vidal     Southampton             3   \n284                  Harrison           Leeds             3   \n584           Castelo Podence          Wolves             3   \n462                 Armstrong     Southampton             3   \n\n    selected_by_percent  now_cost  minutes  transfers_in value_season  \\\n43                 34.0        75      630       2239114          8.0   \n489                59.0        96      640       4423600          7.7   \n168                29.2        74      720       2303467          7.3   \n464                 7.8        60      720        496004          7.2   \n129                11.4        52      455       1173131          7.1   \n564                 1.8        64      660        144706          6.6   \n279                 6.2        56      696        713386          6.4   \n44                  2.3        55      630        231698          6.2   \n286                 8.2        56      622       1027184          5.9   \n589                 1.8        55      646        185398          5.8   \n560                 2.4        63      661        209878          5.7   \n421                 3.0        49      670        450291          5.7   \n563                 2.8        49      720        119335          5.5   \n317                47.1       124      719       1637225          5.4   \n205                28.5        79      588       2898573          5.4   \n164                 2.5        59      681        349557          5.4   \n458                 4.6        45      680        273868          5.3   \n284                 1.7        55      621        265731          5.3   \n584                 3.8        55      500        623915          5.3   \n462                 0.3        55      512         21532          5.3   \n\n     total_points    position  value  \n43             60  Midfielder    8.0  \n489            74  Midfielder    7.7  \n168            54  Midfielder    7.3  \n464            43  Midfielder    7.2  \n129            37  Midfielder    7.1  \n564            42  Midfielder    6.6  \n279            36  Midfielder    6.4  \n44             34  Midfielder    6.2  \n286            33  Midfielder    5.9  \n589            32  Midfielder    5.8  \n560            36  Midfielder    5.7  \n421            28  Midfielder    5.7  \n563            27  Midfielder    5.5  \n317            67  Midfielder    5.4  \n205            43  Midfielder    5.4  \n164            32  Midfielder    5.4  \n458            24  Midfielder    5.3  \n284            29  Midfielder    5.3  \n584            29  Midfielder    5.3  \n462            29  Midfielder    5.3  ",
      "text/html": "<div>\n<style scoped>\n    .dataframe tbody tr th:only-of-type {\n        vertical-align: middle;\n    }\n\n    .dataframe tbody tr th {\n        vertical-align: top;\n    }\n\n    .dataframe thead th {\n        text-align: right;\n    }\n</style>\n<table border=\"1\" class=\"dataframe\">\n  <thead>\n    <tr style=\"text-align: right;\">\n      <th></th>\n      <th>second_name</th>\n      <th>team</th>\n      <th>element_type</th>\n      <th>selected_by_percent</th>\n      <th>now_cost</th>\n      <th>minutes</th>\n      <th>transfers_in</th>\n      <th>value_season</th>\n      <th>total_points</th>\n      <th>position</th>\n      <th>value</th>\n    </tr>\n  </thead>\n  <tbody>\n    <tr>\n      <th>43</th>\n      <td>Grealish</td>\n      <td>Aston Villa</td>\n      <td>3</td>\n      <td>34.0</td>\n      <td>75</td>\n      <td>630</td>\n      <td>2239114</td>\n      <td>8.0</td>\n      <td>60</td>\n      <td>Midfielder</td>\n      <td>8.0</td>\n    </tr>\n    <tr>\n      <th>489</th>\n      <td>Son</td>\n      <td>Spurs</td>\n      <td>3</td>\n      <td>59.0</td>\n      <td>96</td>\n      <td>640</td>\n      <td>4423600</td>\n      <td>7.7</td>\n      <td>74</td>\n      <td>Midfielder</td>\n      <td>7.7</td>\n    </tr>\n    <tr>\n      <th>168</th>\n      <td>Zaha</td>\n      <td>Crystal Palace</td>\n      <td>3</td>\n      <td>29.2</td>\n      <td>74</td>\n      <td>720</td>\n      <td>2303467</td>\n      <td>7.3</td>\n      <td>54</td>\n      <td>Midfielder</td>\n      <td>7.3</td>\n    </tr>\n    <tr>\n      <th>464</th>\n      <td>Ward-Prowse</td>\n      <td>Southampton</td>\n      <td>3</td>\n      <td>7.8</td>\n      <td>60</td>\n      <td>720</td>\n      <td>496004</td>\n      <td>7.2</td>\n      <td>43</td>\n      <td>Midfielder</td>\n      <td>7.2</td>\n    </tr>\n    <tr>\n      <th>129</th>\n      <td>Frello Filho</td>\n      <td>Chelsea</td>\n      <td>3</td>\n      <td>11.4</td>\n      <td>52</td>\n      <td>455</td>\n      <td>1173131</td>\n      <td>7.1</td>\n      <td>37</td>\n      <td>Midfielder</td>\n      <td>7.1</td>\n    </tr>\n    <tr>\n      <th>564</th>\n      <td>Fornals</td>\n      <td>West Ham</td>\n      <td>3</td>\n      <td>1.8</td>\n      <td>64</td>\n      <td>660</td>\n      <td>144706</td>\n      <td>6.6</td>\n      <td>42</td>\n      <td>Midfielder</td>\n      <td>6.6</td>\n    </tr>\n    <tr>\n      <th>279</th>\n      <td>Klich</td>\n      <td>Leeds</td>\n      <td>3</td>\n      <td>6.2</td>\n      <td>56</td>\n      <td>696</td>\n      <td>713386</td>\n      <td>6.4</td>\n      <td>36</td>\n      <td>Midfielder</td>\n      <td>6.4</td>\n    </tr>\n    <tr>\n      <th>44</th>\n      <td>McGinn</td>\n      <td>Aston Villa</td>\n      <td>3</td>\n      <td>2.3</td>\n      <td>55</td>\n      <td>630</td>\n      <td>231698</td>\n      <td>6.2</td>\n      <td>34</td>\n      <td>Midfielder</td>\n      <td>6.2</td>\n    </tr>\n    <tr>\n      <th>286</th>\n      <td>Sousa de Azevedo e Costa</td>\n      <td>Leeds</td>\n      <td>3</td>\n      <td>8.2</td>\n      <td>56</td>\n      <td>622</td>\n      <td>1027184</td>\n      <td>5.9</td>\n      <td>33</td>\n      <td>Midfielder</td>\n      <td>5.9</td>\n    </tr>\n    <tr>\n      <th>589</th>\n      <td>Lomba Neto</td>\n      <td>Wolves</td>\n      <td>3</td>\n      <td>1.8</td>\n      <td>55</td>\n      <td>646</td>\n      <td>185398</td>\n      <td>5.8</td>\n      <td>32</td>\n      <td>Midfielder</td>\n      <td>5.8</td>\n    </tr>\n    <tr>\n      <th>560</th>\n      <td>Bowen</td>\n      <td>West Ham</td>\n      <td>3</td>\n      <td>2.4</td>\n      <td>63</td>\n      <td>661</td>\n      <td>209878</td>\n      <td>5.7</td>\n      <td>36</td>\n      <td>Midfielder</td>\n      <td>5.7</td>\n    </tr>\n    <tr>\n      <th>421</th>\n      <td>Hendrick</td>\n      <td>Newcastle</td>\n      <td>3</td>\n      <td>3.0</td>\n      <td>49</td>\n      <td>670</td>\n      <td>450291</td>\n      <td>5.7</td>\n      <td>28</td>\n      <td>Midfielder</td>\n      <td>5.7</td>\n    </tr>\n    <tr>\n      <th>563</th>\n      <td>Soucek</td>\n      <td>West Ham</td>\n      <td>3</td>\n      <td>2.8</td>\n      <td>49</td>\n      <td>720</td>\n      <td>119335</td>\n      <td>5.5</td>\n      <td>27</td>\n      <td>Midfielder</td>\n      <td>5.5</td>\n    </tr>\n    <tr>\n      <th>317</th>\n      <td>Salah</td>\n      <td>Liverpool</td>\n      <td>3</td>\n      <td>47.1</td>\n      <td>124</td>\n      <td>719</td>\n      <td>1637225</td>\n      <td>5.4</td>\n      <td>67</td>\n      <td>Midfielder</td>\n      <td>5.4</td>\n    </tr>\n    <tr>\n      <th>205</th>\n      <td>Rodríguez</td>\n      <td>Everton</td>\n      <td>3</td>\n      <td>28.5</td>\n      <td>79</td>\n      <td>588</td>\n      <td>2898573</td>\n      <td>5.4</td>\n      <td>43</td>\n      <td>Midfielder</td>\n      <td>5.4</td>\n    </tr>\n    <tr>\n      <th>164</th>\n      <td>Townsend</td>\n      <td>Crystal Palace</td>\n      <td>3</td>\n      <td>2.5</td>\n      <td>59</td>\n      <td>681</td>\n      <td>349557</td>\n      <td>5.4</td>\n      <td>32</td>\n      <td>Midfielder</td>\n      <td>5.4</td>\n    </tr>\n    <tr>\n      <th>458</th>\n      <td>Romeu Vidal</td>\n      <td>Southampton</td>\n      <td>3</td>\n      <td>4.6</td>\n      <td>45</td>\n      <td>680</td>\n      <td>273868</td>\n      <td>5.3</td>\n      <td>24</td>\n      <td>Midfielder</td>\n      <td>5.3</td>\n    </tr>\n    <tr>\n      <th>284</th>\n      <td>Harrison</td>\n      <td>Leeds</td>\n      <td>3</td>\n      <td>1.7</td>\n      <td>55</td>\n      <td>621</td>\n      <td>265731</td>\n      <td>5.3</td>\n      <td>29</td>\n      <td>Midfielder</td>\n      <td>5.3</td>\n    </tr>\n    <tr>\n      <th>584</th>\n      <td>Castelo Podence</td>\n      <td>Wolves</td>\n      <td>3</td>\n      <td>3.8</td>\n      <td>55</td>\n      <td>500</td>\n      <td>623915</td>\n      <td>5.3</td>\n      <td>29</td>\n      <td>Midfielder</td>\n      <td>5.3</td>\n    </tr>\n    <tr>\n      <th>462</th>\n      <td>Armstrong</td>\n      <td>Southampton</td>\n      <td>3</td>\n      <td>0.3</td>\n      <td>55</td>\n      <td>512</td>\n      <td>21532</td>\n      <td>5.3</td>\n      <td>29</td>\n      <td>Midfielder</td>\n      <td>5.3</td>\n    </tr>\n  </tbody>\n</table>\n</div>"
     },
     "execution_count": 198,
     "metadata": {},
     "output_type": "execute_result"
    }
   ],
   "source": [
    "mid_df.sort_values('value',ascending=False).head(20)"
   ],
   "metadata": {
    "collapsed": false,
    "pycharm": {
     "name": "#%%\n"
    }
   }
  },
  {
   "cell_type": "code",
   "execution_count": 199,
   "outputs": [
    {
     "data": {
      "text/plain": "<AxesSubplot:>"
     },
     "execution_count": 199,
     "metadata": {},
     "output_type": "execute_result"
    },
    {
     "data": {
      "text/plain": "<Figure size 432x288 with 1 Axes>",
      "image/png": "[encoded data removed]"
     },
     "metadata": {
      "needs_background": "light"
     },
     "output_type": "display_data"
    }
   ],
   "source": [
    "fwd_df.value.hist()"
   ],
   "metadata": {
    "collapsed": false,
    "pycharm": {
     "name": "#%%\n"
    }
   }
  },
  {
   "cell_type": "code",
   "execution_count": 200,
   "outputs": [
    {
     "data": {
      "text/plain": "        second_name            team  element_type selected_by_percent  \\\n283         Bamford           Leeds             4                34.5   \n425          Wilson       Newcastle             4                15.2   \n61          Watkins     Aston Villa             4                 6.3   \n197   Calvert-Lewin         Everton             4                57.0   \n487            Kane           Spurs             4                45.4   \n470           Adams     Southampton             4                 4.2   \n253           Vardy       Leicester             4                21.0   \n77           Maupay        Brighton             4                 4.5   \n460            Ings     Southampton             4                 8.8   \n225        Mitrović          Fulham             4                 7.4   \n138          Werner         Chelsea             4                24.0   \n514        Robinson       West Brom             4                 0.7   \n552         Antonio        West Ham             4                 2.4   \n576         Jiménez          Wolves             4                16.7   \n430      McGoldrick   Sheffield Utd             4                 0.7   \n139         Abraham         Chelsea             4                 2.2   \n222  Decordova-Reid          Fulham             4                 0.1   \n167            Ayew  Crystal Palace             4                 1.8   \n87         Connolly        Brighton             4                 0.5   \n298          Moreno           Leeds             4                 2.3   \n\n     now_cost  minutes  transfers_in value_season  total_points position  \\\n283        60      670       2748183          9.7            58  Forward   \n425        66      697       1338522          8.3            55  Forward   \n61         61      630        622590          7.7            47  Forward   \n197        78      698       3863423          7.3            57  Forward   \n487       110      713       2610008          7.3            80  Forward   \n470        59      675        290811          6.9            41  Forward   \n253       101      558       1392782          5.8            59  Forward   \n77         65      630        598350          5.8            38  Forward   \n460        84      624        700479          5.6            47  Forward   \n225        57      657        468837          4.9            28  Forward   \n138        94      695       1011930          4.6            43  Forward   \n514        55      417        114223          4.5            25  Forward   \n552        62      481        127869          4.4            27  Forward   \n576        84      720       1121394          4.4            37  Forward   \n430        53      388         47062          4.2            22  Forward   \n139        72      377         74202          3.8            27  Forward   \n222        53      386         14244          3.6            19  Forward   \n167        57      443         83664          3.5            20  Forward   \n87         54      288         62144          3.3            18  Forward   \n298        57      320        122133          3.2            18  Forward   \n\n     value  \n283    9.7  \n425    8.3  \n61     7.7  \n197    7.3  \n487    7.3  \n470    6.9  \n253    5.8  \n77     5.8  \n460    5.6  \n225    4.9  \n138    4.6  \n514    4.5  \n552    4.4  \n576    4.4  \n430    4.2  \n139    3.8  \n222    3.6  \n167    3.5  \n87     3.3  \n298    3.2  ",
      "text/html": "<div>\n<style scoped>\n    .dataframe tbody tr th:only-of-type {\n        vertical-align: middle;\n    }\n\n    .dataframe tbody tr th {\n        vertical-align: top;\n    }\n\n    .dataframe thead th {\n        text-align: right;\n    }\n</style>\n<table border=\"1\" class=\"dataframe\">\n  <thead>\n    <tr style=\"text-align: right;\">\n      <th></th>\n      <th>second_name</th>\n      <th>team</th>\n      <th>element_type</th>\n      <th>selected_by_percent</th>\n      <th>now_cost</th>\n      <th>minutes</th>\n      <th>transfers_in</th>\n      <th>value_season</th>\n      <th>total_points</th>\n      <th>position</th>\n      <th>value</th>\n    </tr>\n  </thead>\n  <tbody>\n    <tr>\n      <th>283</th>\n      <td>Bamford</td>\n      <td>Leeds</td>\n      <td>4</td>\n      <td>34.5</td>\n      <td>60</td>\n      <td>670</td>\n      <td>2748183</td>\n      <td>9.7</td>\n      <td>58</td>\n      <td>Forward</td>\n      <td>9.7</td>\n    </tr>\n    <tr>\n      <th>425</th>\n      <td>Wilson</td>\n      <td>Newcastle</td>\n      <td>4</td>\n      <td>15.2</td>\n      <td>66</td>\n      <td>697</td>\n      <td>1338522</td>\n      <td>8.3</td>\n      <td>55</td>\n      <td>Forward</td>\n      <td>8.3</td>\n    </tr>\n    <tr>\n      <th>61</th>\n      <td>Watkins</td>\n      <td>Aston Villa</td>\n      <td>4</td>\n      <td>6.3</td>\n      <td>61</td>\n      <td>630</td>\n      <td>622590</td>\n      <td>7.7</td>\n      <td>47</td>\n      <td>Forward</td>\n      <td>7.7</td>\n    </tr>\n    <tr>\n      <th>197</th>\n      <td>Calvert-Lewin</td>\n      <td>Everton</td>\n      <td>4</td>\n      <td>57.0</td>\n      <td>78</td>\n      <td>698</td>\n      <td>3863423</td>\n      <td>7.3</td>\n      <td>57</td>\n      <td>Forward</td>\n      <td>7.3</td>\n    </tr>\n    <tr>\n      <th>487</th>\n      <td>Kane</td>\n      <td>Spurs</td>\n      <td>4</td>\n      <td>45.4</td>\n      <td>110</td>\n      <td>713</td>\n      <td>2610008</td>\n      <td>7.3</td>\n      <td>80</td>\n      <td>Forward</td>\n      <td>7.3</td>\n    </tr>\n    <tr>\n      <th>470</th>\n      <td>Adams</td>\n      <td>Southampton</td>\n      <td>4</td>\n      <td>4.2</td>\n      <td>59</td>\n      <td>675</td>\n      <td>290811</td>\n      <td>6.9</td>\n      <td>41</td>\n      <td>Forward</td>\n      <td>6.9</td>\n    </tr>\n    <tr>\n      <th>253</th>\n      <td>Vardy</td>\n      <td>Leicester</td>\n      <td>4</td>\n      <td>21.0</td>\n      <td>101</td>\n      <td>558</td>\n      <td>1392782</td>\n      <td>5.8</td>\n      <td>59</td>\n      <td>Forward</td>\n      <td>5.8</td>\n    </tr>\n    <tr>\n      <th>77</th>\n      <td>Maupay</td>\n      <td>Brighton</td>\n      <td>4</td>\n      <td>4.5</td>\n      <td>65</td>\n      <td>630</td>\n      <td>598350</td>\n      <td>5.8</td>\n      <td>38</td>\n      <td>Forward</td>\n      <td>5.8</td>\n    </tr>\n    <tr>\n      <th>460</th>\n      <td>Ings</td>\n      <td>Southampton</td>\n      <td>4</td>\n      <td>8.8</td>\n      <td>84</td>\n      <td>624</td>\n      <td>700479</td>\n      <td>5.6</td>\n      <td>47</td>\n      <td>Forward</td>\n      <td>5.6</td>\n    </tr>\n    <tr>\n      <th>225</th>\n      <td>Mitrović</td>\n      <td>Fulham</td>\n      <td>4</td>\n      <td>7.4</td>\n      <td>57</td>\n      <td>657</td>\n      <td>468837</td>\n      <td>4.9</td>\n      <td>28</td>\n      <td>Forward</td>\n      <td>4.9</td>\n    </tr>\n    <tr>\n      <th>138</th>\n      <td>Werner</td>\n      <td>Chelsea</td>\n      <td>4</td>\n      <td>24.0</td>\n      <td>94</td>\n      <td>695</td>\n      <td>1011930</td>\n      <td>4.6</td>\n      <td>43</td>\n      <td>Forward</td>\n      <td>4.6</td>\n    </tr>\n    <tr>\n      <th>514</th>\n      <td>Robinson</td>\n      <td>West Brom</td>\n      <td>4</td>\n      <td>0.7</td>\n      <td>55</td>\n      <td>417</td>\n      <td>114223</td>\n      <td>4.5</td>\n      <td>25</td>\n      <td>Forward</td>\n      <td>4.5</td>\n    </tr>\n    <tr>\n      <th>552</th>\n      <td>Antonio</td>\n      <td>West Ham</td>\n      <td>4</td>\n      <td>2.4</td>\n      <td>62</td>\n      <td>481</td>\n      <td>127869</td>\n      <td>4.4</td>\n      <td>27</td>\n      <td>Forward</td>\n      <td>4.4</td>\n    </tr>\n    <tr>\n      <th>576</th>\n      <td>Jiménez</td>\n      <td>Wolves</td>\n      <td>4</td>\n      <td>16.7</td>\n      <td>84</td>\n      <td>720</td>\n      <td>1121394</td>\n      <td>4.4</td>\n      <td>37</td>\n      <td>Forward</td>\n      <td>4.4</td>\n    </tr>\n    <tr>\n      <th>430</th>\n      <td>McGoldrick</td>\n      <td>Sheffield Utd</td>\n      <td>4</td>\n      <td>0.7</td>\n      <td>53</td>\n      <td>388</td>\n      <td>47062</td>\n      <td>4.2</td>\n      <td>22</td>\n      <td>Forward</td>\n      <td>4.2</td>\n    </tr>\n    <tr>\n      <th>139</th>\n      <td>Abraham</td>\n      <td>Chelsea</td>\n      <td>4</td>\n      <td>2.2</td>\n      <td>72</td>\n      <td>377</td>\n      <td>74202</td>\n      <td>3.8</td>\n      <td>27</td>\n      <td>Forward</td>\n      <td>3.8</td>\n    </tr>\n    <tr>\n      <th>222</th>\n      <td>Decordova-Reid</td>\n      <td>Fulham</td>\n      <td>4</td>\n      <td>0.1</td>\n      <td>53</td>\n      <td>386</td>\n      <td>14244</td>\n      <td>3.6</td>\n      <td>19</td>\n      <td>Forward</td>\n      <td>3.6</td>\n    </tr>\n    <tr>\n      <th>167</th>\n      <td>Ayew</td>\n      <td>Crystal Palace</td>\n      <td>4</td>\n      <td>1.8</td>\n      <td>57</td>\n      <td>443</td>\n      <td>83664</td>\n      <td>3.5</td>\n      <td>20</td>\n      <td>Forward</td>\n      <td>3.5</td>\n    </tr>\n    <tr>\n      <th>87</th>\n      <td>Connolly</td>\n      <td>Brighton</td>\n      <td>4</td>\n      <td>0.5</td>\n      <td>54</td>\n      <td>288</td>\n      <td>62144</td>\n      <td>3.3</td>\n      <td>18</td>\n      <td>Forward</td>\n      <td>3.3</td>\n    </tr>\n    <tr>\n      <th>298</th>\n      <td>Moreno</td>\n      <td>Leeds</td>\n      <td>4</td>\n      <td>2.3</td>\n      <td>57</td>\n      <td>320</td>\n      <td>122133</td>\n      <td>3.2</td>\n      <td>18</td>\n      <td>Forward</td>\n      <td>3.2</td>\n    </tr>\n  </tbody>\n</table>\n</div>"
     },
     "execution_count": 200,
     "metadata": {},
     "output_type": "execute_result"
    }
   ],
   "source": [
    "fwd_df.sort_values('value',ascending=False).head(20)\n",
    "\n"
   ],
   "metadata": {
    "collapsed": false,
    "pycharm": {
     "name": "#%%\n"
    }
   }
  }
 ],
 "metadata": {
  "kernelspec": {
   "display_name": "Python 3",
   "language": "python",
   "name": "python3"
  },
  "language_info": {
   "codemirror_mode": {
    "name": "ipython",
    "version": 2
   },
   "file_extension": ".py",
   "mimetype": "text/x-python",
   "name": "python",
   "nbconvert_exporter": "python",
   "pygments_lexer": "ipython2",
   "version": "2.7.6"
  }
 },
 "nbformat": 4,
 "nbformat_minor": 0
}